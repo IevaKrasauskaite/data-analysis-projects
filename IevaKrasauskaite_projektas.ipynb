{
 "cells": [
  {
   "cell_type": "markdown",
   "metadata": {},
   "source": [
    "# Projektas"
   ]
  },
  {
   "cell_type": "markdown",
   "metadata": {},
   "source": [
    "## Aprašymas"
   ]
  },
  {
   "cell_type": "markdown",
   "metadata": {},
   "source": [
    "Sukurkite projektą su Python, kuriame išanalizuotumėte pasirinktą duomenų rinkinį. \n",
    "\n",
    "Duomenis galite pasiimti iš bet kur ir bet kokius. Pavyzdžiui, iš Lietuvos atvirų duomenų, ar kitų \n",
    "pasaulio šalių.\n",
    "\n",
    "Būtų labai gerai jei jūsų gautuose duomenyse būtų bent 2 tūkst. eilučių, tačiau jeigu duomenys nėra tvarkingi ir reikės daug laiko suinvestuoti į jų susitvarkymą, įrašų gali būti ir mažiau. Duomenys gali būti tiek iš failo (json, csv, ...), tiek iš duomenų bazės, galima naudoti kombinaciją iš kelių failų, gali viskas būti iš vieno. "
   ]
  },
  {
   "cell_type": "markdown",
   "metadata": {},
   "source": [
    "Projekto žingniai: \n",
    "- Duomenų užsikėlimas (CSV, JSON, XLSX, t.t) \n",
    "- Duomenų validacija (tikriname ar yra null eilučių, netinkamų verčių, t.t, dublikatų šalinimas) \n",
    "- Duomenų keitimas (keičiame neteisingu duomenis, užpildome vidurkiais ar jūsų pasirinktomis vertėmis)\n",
    "- Duomenų sumarizacija (kas įdomaus duomenyse, minimalios vertės, maksimalios vertės, kiti svarbūs aspektai) "
   ]
  },
  {
   "cell_type": "markdown",
   "metadata": {},
   "source": [
    "Verslo/research klausimai - išsikelkite 4-5 verslo/research klausimus ir atsakykite juos analize/vizualizacijomis (klausimų pvz): \n",
    "- Koks vidutinis atlyginimas pagal darbuotojų profesijas? \n",
    "- Kaip keitėsi sergamumas per paskutinius 12 mėn. Tarp skirtingų amžiaus grupių? \n",
    "- Kokie filmai buvo žiūrimiausi tarp moterų ir vyrų grupių? (top 5 filmai)\n",
    "- Kokia yra bakteriju kolonijos raida (dienomis)?"
   ]
  },
  {
   "cell_type": "markdown",
   "metadata": {},
   "source": [
    "Projekto aptarimas:\n",
    "- Su kokiomis problemomis susidūrėte analizuodami duomenis? \n",
    "- Kodėl pasirinkote šiuos duomenis?  \n",
    "- Jeigu projektą vykdytumėte antrą kart – ką darytumėte kitaip? Ar liktumėte prie tų pačių  \n",
    "duomenų, o galbūt pasirinktumėte kitą dataset – jei taip, kodėl? "
   ]
  },
  {
   "cell_type": "markdown",
   "metadata": {},
   "source": [
    "Pabaigę projektą, įkelkite jupyter notebook'ą į egzamino potemę google classroom'e."
   ]
  },
  {
   "cell_type": "markdown",
   "metadata": {},
   "source": [
    "## Projekto įgyvendinimas"
   ]
  },
  {
   "cell_type": "markdown",
   "metadata": {},
   "source": [
    "Projekto tikslas : išanalizuoti Michelin restoranų duomenis, siekiant suprasti:\n",
    "- Kuriose šalyse yra daugiausia Michelin restoranų?\n",
    "- Kokiose kainų kategorijose dažniausiai randami Michelin restoranai?\n",
    "- Ar Michelin žvaigždutės priklauso nuo kainos lygio?\n",
    "- Kokios virtuvės rūšys yra populiariausios Michelin restoranuose?\n",
    "- Kiek restoranų turi „Green Star“ ekologiškumo įvertinimą ir ar jie dažniau gauna žvaigždes?\n",
    "\n",
    "Duomenys: (https://www.kaggle.com/datasets/ngshiheng/michelin-guide-restaurants-2021)"
   ]
  },
  {
   "cell_type": "code",
   "execution_count": 2,
   "metadata": {},
   "outputs": [
    {
     "name": "stdout",
     "output_type": "stream",
     "text": [
      "Name                       0\n",
      "Address                    0\n",
      "Location                   0\n",
      "Price                      1\n",
      "Cuisine                    0\n",
      "Longitude                  0\n",
      "Latitude                   0\n",
      "Award                      0\n",
      "GreenStar                  0\n",
      "FacilitiesAndServices    922\n",
      "Description                0\n",
      "dtype: int64\n"
     ]
    }
   ],
   "source": [
    "import pandas as pd  \n",
    "\n",
    "file_path = \"michelin_my_maps.csv\"\n",
    "\n",
    "df = pd.read_csv(file_path)\n",
    "\n",
    "df = df.drop(columns=[\"WebsiteUrl\", \"PhoneNumber\", \"Url\"]) #nereikalingi stulpeliai\n",
    "\n",
    "print(df.isnull().sum())  \n"
   ]
  },
  {
   "cell_type": "code",
   "execution_count": 3,
   "metadata": {},
   "outputs": [
    {
     "name": "stdout",
     "output_type": "stream",
     "text": [
      "Name                     0\n",
      "Address                  0\n",
      "Location                 0\n",
      "Price                    0\n",
      "Cuisine                  0\n",
      "Longitude                0\n",
      "Latitude                 0\n",
      "Award                    0\n",
      "GreenStar                0\n",
      "FacilitiesAndServices    0\n",
      "Description              0\n",
      "dtype: int64\n"
     ]
    }
   ],
   "source": [
    "df[\"FacilitiesAndServices\"] = df[\"FacilitiesAndServices\"].fillna(\"Nepateikta\") \n",
    "df[\"Price\"] = df[\"Price\"].fillna(\"N/A\") \n",
    "\n",
    "print(df.isnull().sum())\n"
   ]
  },
  {
   "cell_type": "code",
   "execution_count": 4,
   "metadata": {},
   "outputs": [
    {
     "name": "stdout",
     "output_type": "stream",
     "text": [
      "(17737, 11)\n"
     ]
    }
   ],
   "source": [
    "print(df.shape)  \n"
   ]
  },
  {
   "cell_type": "code",
   "execution_count": 5,
   "metadata": {},
   "outputs": [
    {
     "data": {
      "text/plain": [
       "Index(['Name', 'Address', 'Location', 'Price', 'Cuisine', 'Longitude',\n",
       "       'Latitude', 'Award', 'GreenStar', 'FacilitiesAndServices',\n",
       "       'Description'],\n",
       "      dtype='object')"
      ]
     },
     "execution_count": 5,
     "metadata": {},
     "output_type": "execute_result"
    }
   ],
   "source": [
    "df.columns\n"
   ]
  },
  {
   "cell_type": "markdown",
   "metadata": {},
   "source": [
    "1. Kokiose šalyse yra daugiausia Michelin restoranų? Šis klausimas parodo, kurios rinkos labiausiai vertina aukštąją virtuvę."
   ]
  },
  {
   "cell_type": "code",
   "execution_count": 6,
   "metadata": {},
   "outputs": [
    {
     "data": {
      "text/html": [
       "<div>\n",
       "<style scoped>\n",
       "    .dataframe tbody tr th:only-of-type {\n",
       "        vertical-align: middle;\n",
       "    }\n",
       "\n",
       "    .dataframe tbody tr th {\n",
       "        vertical-align: top;\n",
       "    }\n",
       "\n",
       "    .dataframe thead th {\n",
       "        text-align: right;\n",
       "    }\n",
       "</style>\n",
       "<table border=\"1\" class=\"dataframe\">\n",
       "  <thead>\n",
       "    <tr style=\"text-align: right;\">\n",
       "      <th></th>\n",
       "      <th>Country</th>\n",
       "      <th>Restaurant Count</th>\n",
       "    </tr>\n",
       "  </thead>\n",
       "  <tbody>\n",
       "    <tr>\n",
       "      <th>0</th>\n",
       "      <td>Tokyo, Japan</td>\n",
       "      <td>504</td>\n",
       "    </tr>\n",
       "    <tr>\n",
       "      <th>1</th>\n",
       "      <td>Paris, France</td>\n",
       "      <td>459</td>\n",
       "    </tr>\n",
       "    <tr>\n",
       "      <th>2</th>\n",
       "      <td>London, United Kingdom</td>\n",
       "      <td>368</td>\n",
       "    </tr>\n",
       "    <tr>\n",
       "      <th>3</th>\n",
       "      <td>Singapore</td>\n",
       "      <td>288</td>\n",
       "    </tr>\n",
       "    <tr>\n",
       "      <th>4</th>\n",
       "      <td>Kyoto, Japan</td>\n",
       "      <td>257</td>\n",
       "    </tr>\n",
       "    <tr>\n",
       "      <th>...</th>\n",
       "      <td>...</td>\n",
       "      <td>...</td>\n",
       "    </tr>\n",
       "    <tr>\n",
       "      <th>5795</th>\n",
       "      <td>Southbourne, United Kingdom</td>\n",
       "      <td>1</td>\n",
       "    </tr>\n",
       "    <tr>\n",
       "      <th>5796</th>\n",
       "      <td>Hay-on-Wye, United Kingdom</td>\n",
       "      <td>1</td>\n",
       "    </tr>\n",
       "    <tr>\n",
       "      <th>5797</th>\n",
       "      <td>Tarcal, Hungary</td>\n",
       "      <td>1</td>\n",
       "    </tr>\n",
       "    <tr>\n",
       "      <th>5798</th>\n",
       "      <td>Malahide, Ireland</td>\n",
       "      <td>1</td>\n",
       "    </tr>\n",
       "    <tr>\n",
       "      <th>5799</th>\n",
       "      <td>Milborne Port, United Kingdom</td>\n",
       "      <td>1</td>\n",
       "    </tr>\n",
       "  </tbody>\n",
       "</table>\n",
       "<p>5800 rows × 2 columns</p>\n",
       "</div>"
      ],
      "text/plain": [
       "                            Country  Restaurant Count\n",
       "0                      Tokyo, Japan               504\n",
       "1                     Paris, France               459\n",
       "2            London, United Kingdom               368\n",
       "3                         Singapore               288\n",
       "4                      Kyoto, Japan               257\n",
       "...                             ...               ...\n",
       "5795    Southbourne, United Kingdom                 1\n",
       "5796     Hay-on-Wye, United Kingdom                 1\n",
       "5797                Tarcal, Hungary                 1\n",
       "5798              Malahide, Ireland                 1\n",
       "5799  Milborne Port, United Kingdom                 1\n",
       "\n",
       "[5800 rows x 2 columns]"
      ]
     },
     "execution_count": 6,
     "metadata": {},
     "output_type": "execute_result"
    }
   ],
   "source": [
    "country_counts = df[\"Location\"].value_counts().reset_index() #naujas dataFrame\n",
    "\n",
    "country_counts.columns = [\"Country\", \"Restaurant Count\"]\n",
    "\n",
    "country_counts\n"
   ]
  },
  {
   "cell_type": "markdown",
   "metadata": {},
   "source": [
    "Kodėl Japonija turi daugiausia Michelin restoranų?\n",
    "- Kulinarinė kultūra – Japonijoje vyrauja aukščiausio lygio gastronomija: kaiseki, sushi, ramen, wagyu jautiena.\n",
    "- Michelin gido strategija – Michelin aktyviai investuoja į Japoniją nuo 2007 m., vertina ne tik prabangius, bet ir paprastus, meistriškus restoranus.\n",
    "- Didelė konkurencija – Tokijuje daugiau nei 160,000 restoranų, todėl tik išskirtinė kokybė leidžia išlikti rinkoje.\n",
    "- Meistriškumas ir preciziškumas – Japonų restoranai dažnai specializuojasi vienoje srityje ir siekia tobulumo.\n",
    "\n",
    "Paryžius (Prancūzija) – gastronomijos sostinė\n",
    "- Istorinė kulinarijos reikšmė – prancūzų virtuvė yra aukštosios gastronomijos (haute cuisine) lopšys.\n",
    "- Michelin gido kilmė – Paryžius buvo viena pirmųjų vertinamų vietų (nuo 1926 m.).\n",
    "- Prabangūs restoranai – dauguma Paryžiaus Michelin restoranų yra klasikiniai, elegantiški, su rafinuotu meniu.\n",
    "\n",
    "Londonas (JK) – moderni įvairovė\n",
    "- Daug kultūrų – Londone Michelin restoranai apima įvairias virtuves (indų, kinų, japonų, italų).\n",
    "- Eksperimentinė virtuvė – daugiau inovatyvių ir „fusion“ restoranų nei Paryžiuje ar Tokijuje.\n",
    "- Stipri rinka, bet mažiau tradicijų – JK neturi tokios gilios gastronominės istorijos kaip Prancūzija ar Japonija."
   ]
  },
  {
   "cell_type": "markdown",
   "metadata": {},
   "source": [
    "2. Kokie yra populiariausi Michelin restoranų kainų lygiai? Panagrinėkime ar dauguma restoranų yra prieinami vidutiniams vartotojams, ar orientuoti į aukščiausios klasės klientus."
   ]
  },
  {
   "cell_type": "code",
   "execution_count": 44,
   "metadata": {},
   "outputs": [
    {
     "data": {
      "text/html": [
       "<div>\n",
       "<style scoped>\n",
       "    .dataframe tbody tr th:only-of-type {\n",
       "        vertical-align: middle;\n",
       "    }\n",
       "\n",
       "    .dataframe tbody tr th {\n",
       "        vertical-align: top;\n",
       "    }\n",
       "\n",
       "    .dataframe thead th {\n",
       "        text-align: right;\n",
       "    }\n",
       "</style>\n",
       "<table border=\"1\" class=\"dataframe\">\n",
       "  <thead>\n",
       "    <tr style=\"text-align: right;\">\n",
       "      <th></th>\n",
       "      <th>Price Level</th>\n",
       "      <th>Restaurant Count</th>\n",
       "    </tr>\n",
       "  </thead>\n",
       "  <tbody>\n",
       "    <tr>\n",
       "      <th>0</th>\n",
       "      <td>Medium</td>\n",
       "      <td>5861</td>\n",
       "    </tr>\n",
       "    <tr>\n",
       "      <th>1</th>\n",
       "      <td>High</td>\n",
       "      <td>4276</td>\n",
       "    </tr>\n",
       "    <tr>\n",
       "      <th>2</th>\n",
       "      <td>Luxury</td>\n",
       "      <td>2845</td>\n",
       "    </tr>\n",
       "  </tbody>\n",
       "</table>\n",
       "</div>"
      ],
      "text/plain": [
       "  Price Level  Restaurant Count\n",
       "0      Medium              5861\n",
       "1        High              4276\n",
       "2      Luxury              2845"
      ]
     },
     "execution_count": 44,
     "metadata": {},
     "output_type": "execute_result"
    }
   ],
   "source": [
    "\n",
    "price_counts = df[\"Price\"].value_counts().reset_index()\n",
    "\n",
    "price_counts.columns = [\"Price Level\", \"Restaurant Count\"]\n",
    "\n",
    "price_counts\n",
    "\n",
    "\n"
   ]
  },
  {
   "cell_type": "markdown",
   "metadata": {},
   "source": [
    "Michelin restoranai nėra tik prabangos vietos.\n",
    "\n",
    "Dauguma restoranų yra vidutinės kainos (Medium) kategorijoje, kas reiškia, kad paprastas vartotojas gali sau leisti apsilankyti bent kartais.\n",
    "Michelin gidas vertina ne tik kainą, bet ir kokybę, autentiškumą bei meistriškumą, todėl net paprasti užkandinės stiliaus restoranai gali patekti į sąrašą (pvz., Japonijoje ramen vietos).\n",
    "Vis dėlto „Luxury“ kategorija išlieka svarbi.\n",
    "\n",
    "Tokie restoranai skirti aukštos klasės gurmanams, ypatingoms progoms ir verslo klientams.\n",
    "Jie formuoja Michelin prestižą, nes tradicinė prabanga ir aptarnavimas yra svarbi gido dalis."
   ]
  },
  {
   "cell_type": "markdown",
   "metadata": {},
   "source": [
    "3. Ar Michelin žvaigždutės priklauso nuo kainos lygio? Tai parodo, ar brangesni restoranai dažniau gauna Michelin įvertinimus, ar kaina nelemia kokybės."
   ]
  },
  {
   "cell_type": "code",
   "execution_count": null,
   "metadata": {},
   "outputs": [
    {
     "data": {
      "text/html": [
       "<div>\n",
       "<style scoped>\n",
       "    .dataframe tbody tr th:only-of-type {\n",
       "        vertical-align: middle;\n",
       "    }\n",
       "\n",
       "    .dataframe tbody tr th {\n",
       "        vertical-align: top;\n",
       "    }\n",
       "\n",
       "    .dataframe thead th {\n",
       "        text-align: right;\n",
       "    }\n",
       "</style>\n",
       "<table border=\"1\" class=\"dataframe\">\n",
       "  <thead>\n",
       "    <tr style=\"text-align: right;\">\n",
       "      <th>Award</th>\n",
       "      <th>1 Star</th>\n",
       "      <th>2 Stars</th>\n",
       "      <th>3 Stars</th>\n",
       "      <th>Bib Gourmand</th>\n",
       "      <th>Selected Restaurants</th>\n",
       "    </tr>\n",
       "    <tr>\n",
       "      <th>Price</th>\n",
       "      <th></th>\n",
       "      <th></th>\n",
       "      <th></th>\n",
       "      <th></th>\n",
       "      <th></th>\n",
       "    </tr>\n",
       "  </thead>\n",
       "  <tbody>\n",
       "    <tr>\n",
       "      <th>High</th>\n",
       "      <td>823</td>\n",
       "      <td>14</td>\n",
       "      <td>2</td>\n",
       "      <td>54</td>\n",
       "      <td>3383</td>\n",
       "    </tr>\n",
       "    <tr>\n",
       "      <th>Luxury</th>\n",
       "      <td>1474</td>\n",
       "      <td>369</td>\n",
       "      <td>113</td>\n",
       "      <td>1</td>\n",
       "      <td>888</td>\n",
       "    </tr>\n",
       "    <tr>\n",
       "      <th>Medium</th>\n",
       "      <td>67</td>\n",
       "      <td>1</td>\n",
       "      <td>0</td>\n",
       "      <td>1843</td>\n",
       "      <td>3950</td>\n",
       "    </tr>\n",
       "  </tbody>\n",
       "</table>\n",
       "</div>"
      ],
      "text/plain": [
       "Award   1 Star  2 Stars  3 Stars  Bib Gourmand  Selected Restaurants\n",
       "Price                                                               \n",
       "High       823       14        2            54                  3383\n",
       "Luxury    1474      369      113             1                   888\n",
       "Medium      67        1        0          1843                  3950"
      ]
     },
     "execution_count": 25,
     "metadata": {},
     "output_type": "execute_result"
    }
   ],
   "source": [
    "stars_vs_price = df.groupby(\"Price\")[\"Award\"].value_counts()\n",
    "\n",
    "stars_vs_price = stars_vs_price.unstack(fill_value=0) #atskiri stulpeliai kiekvienam michelin įvertinimui\n",
    "\n",
    "stars_vs_price\n",
    "\n"
   ]
  },
  {
   "cell_type": "code",
   "execution_count": 50,
   "metadata": {},
   "outputs": [
    {
     "data": {
      "image/png": "[encoded data removed]",
      "text/plain": [
       "<Figure size 1200x600 with 1 Axes>"
      ]
     },
     "metadata": {},
     "output_type": "display_data"
    }
   ],
   "source": [
    "import matplotlib.pyplot as plt\n",
    "\n",
    "stars_vs_price.plot(kind=\"bar\", stacked=True, figsize=(12,6), color=[\"red\", \"orange\", \"gold\", \"darkgray\", \"gray\"])\n",
    "\n",
    "plt.xlabel(\"Kainų lygis\")\n",
    "plt.ylabel(\"Restoranų skaičius\")\n",
    "plt.title(\"Michelin žvaigždutės pagal kainų lygį\")\n",
    "plt.legend(title=\"Michelin įvertinimas\")\n",
    "plt.xticks(rotation=0)  \n",
    "\n",
    "plt.show()\n",
    "\n"
   ]
  },
  {
   "cell_type": "markdown",
   "metadata": {},
   "source": [
    "- Luxury restoranai turi daugiausia 3 žvaigždučių įvertinimų.\n",
    "- High restoranai dominuoja tarp 1 žvaigždutės restoranų.\n",
    "- Medium restoranai daugiausia gauna „Bib Gourmand“ arba „Selected Restaurants“.\n",
    "- Kaina didina šansus gauti Michelin žvaigždutę, bet negarantuoja jos."
   ]
  },
  {
   "cell_type": "markdown",
   "metadata": {},
   "source": [
    "- Bib Gourmand – Michelin įvertinimas, skirtas restoranams, kurie siūlo puikų kainos ir kokybės santykį. Tai nėra žvaigždutė, bet rodo, kad restoranas vertas dėmesio dėl skanaus maisto už prieinamą kainą.\n",
    "\n",
    "- Selected Restaurants – restoranai, kurie nėra gavę žvaigždutės ar „Bib Gourmand“, bet vis tiek yra Michelin rekomenduojami, nes atitinka aukštus kokybės standartus."
   ]
  },
  {
   "cell_type": "markdown",
   "metadata": {},
   "source": [
    "4. Kokia yra populiariausia virtuvės rūšis Michelin restoranuose? Kurios pasaulio virtuvės yra labiausiai vertinamos Michelin gide ir kokias tendencijas galima prognozuoti ateityje."
   ]
  },
  {
   "cell_type": "code",
   "execution_count": null,
   "metadata": {},
   "outputs": [
    {
     "data": {
      "text/html": [
       "<div>\n",
       "<style scoped>\n",
       "    .dataframe tbody tr th:only-of-type {\n",
       "        vertical-align: middle;\n",
       "    }\n",
       "\n",
       "    .dataframe tbody tr th {\n",
       "        vertical-align: top;\n",
       "    }\n",
       "\n",
       "    .dataframe thead th {\n",
       "        text-align: right;\n",
       "    }\n",
       "</style>\n",
       "<table border=\"1\" class=\"dataframe\">\n",
       "  <thead>\n",
       "    <tr style=\"text-align: right;\">\n",
       "      <th></th>\n",
       "      <th>Cuisine Type</th>\n",
       "      <th>Restaurant Count</th>\n",
       "    </tr>\n",
       "  </thead>\n",
       "  <tbody>\n",
       "    <tr>\n",
       "      <th>0</th>\n",
       "      <td>Modern Cuisine</td>\n",
       "      <td>2449</td>\n",
       "    </tr>\n",
       "    <tr>\n",
       "      <th>1</th>\n",
       "      <td>Traditional Cuisine</td>\n",
       "      <td>653</td>\n",
       "    </tr>\n",
       "    <tr>\n",
       "      <th>2</th>\n",
       "      <td>Creative</td>\n",
       "      <td>575</td>\n",
       "    </tr>\n",
       "    <tr>\n",
       "      <th>3</th>\n",
       "      <td>Contemporary</td>\n",
       "      <td>437</td>\n",
       "    </tr>\n",
       "    <tr>\n",
       "      <th>4</th>\n",
       "      <td>Seafood</td>\n",
       "      <td>268</td>\n",
       "    </tr>\n",
       "    <tr>\n",
       "      <th>5</th>\n",
       "      <td>Italian</td>\n",
       "      <td>240</td>\n",
       "    </tr>\n",
       "    <tr>\n",
       "      <th>6</th>\n",
       "      <td>Classic Cuisine</td>\n",
       "      <td>210</td>\n",
       "    </tr>\n",
       "    <tr>\n",
       "      <th>7</th>\n",
       "      <td>Farm to table</td>\n",
       "      <td>193</td>\n",
       "    </tr>\n",
       "    <tr>\n",
       "      <th>8</th>\n",
       "      <td>Mediterranean Cuisine</td>\n",
       "      <td>183</td>\n",
       "    </tr>\n",
       "    <tr>\n",
       "      <th>9</th>\n",
       "      <td>Modern French</td>\n",
       "      <td>171</td>\n",
       "    </tr>\n",
       "  </tbody>\n",
       "</table>\n",
       "</div>"
      ],
      "text/plain": [
       "            Cuisine Type  Restaurant Count\n",
       "0         Modern Cuisine              2449\n",
       "1    Traditional Cuisine               653\n",
       "2               Creative               575\n",
       "3           Contemporary               437\n",
       "4                Seafood               268\n",
       "5                Italian               240\n",
       "6        Classic Cuisine               210\n",
       "7          Farm to table               193\n",
       "8  Mediterranean Cuisine               183\n",
       "9          Modern French               171"
      ]
     },
     "execution_count": 34,
     "metadata": {},
     "output_type": "execute_result"
    }
   ],
   "source": [
    "cuisine_counts = df[\"Cuisine\"].value_counts()\n",
    "\n",
    "cuisine_counts = cuisine_counts.reset_index() \n",
    "\n",
    "cuisine_counts.columns = [\"Cuisine Type\", \"Restaurant Count\"]\n",
    "\n",
    "cuisine_counts.head(10)\n",
    "\n"
   ]
  },
  {
   "cell_type": "markdown",
   "metadata": {},
   "source": [
    "- Modern Cuisine yra dominuojanti kategorija – tai reiškia, kad Michelin vertina inovacijas ir modernias interpretacijas labiau nei tradicinius patiekalus.\n",
    "- Traditional Cuisine vis dar svarbi, bet mažiau populiari nei moderni virtuvė.\n",
    "- Creative ir Contemporary rodo, kad Michelin mėgsta restoranus, kurie eksperimentuoja su skoniais ir tekstūromis.\n",
    "- Seafood virtuvė yra reikšminga, tačiau ji nėra tokia populiari kaip modernūs ar kūrybiški restoranai."
   ]
  },
  {
   "cell_type": "code",
   "execution_count": 48,
   "metadata": {},
   "outputs": [
    {
     "data": {
      "image/png": "[encoded data removed]",
      "text/plain": [
       "<Figure size 640x480 with 1 Axes>"
      ]
     },
     "metadata": {},
     "output_type": "display_data"
    }
   ],
   "source": [
    "top_cuisines = cuisine_counts.head(10)\n",
    "\n",
    "plt.bar(top_cuisines[\"Cuisine Type\"], top_cuisines[\"Restaurant Count\"], color=\"blue\")\n",
    "\n",
    "plt.xlabel(\"Virtuvės tipas\")\n",
    "plt.ylabel(\"Restoranų skaičius\")\n",
    "plt.title(\"TOP 10 populiariausių virtuvių Michelin restoranuose\")\n",
    "plt.xticks(rotation=70)\n",
    "plt.show()\n",
    "\n"
   ]
  },
  {
   "cell_type": "markdown",
   "metadata": {},
   "source": [
    "5. Kiek Michelin restoranų turi „Green Star“ (ekologiškumas)? Ar ekologiški restoranai dažniau gauna žvaigždes?"
   ]
  },
  {
   "cell_type": "code",
   "execution_count": 38,
   "metadata": {},
   "outputs": [
    {
     "data": {
      "text/html": [
       "<div>\n",
       "<style scoped>\n",
       "    .dataframe tbody tr th:only-of-type {\n",
       "        vertical-align: middle;\n",
       "    }\n",
       "\n",
       "    .dataframe tbody tr th {\n",
       "        vertical-align: top;\n",
       "    }\n",
       "\n",
       "    .dataframe thead th {\n",
       "        text-align: right;\n",
       "    }\n",
       "</style>\n",
       "<table border=\"1\" class=\"dataframe\">\n",
       "  <thead>\n",
       "    <tr style=\"text-align: right;\">\n",
       "      <th></th>\n",
       "      <th>Green Star</th>\n",
       "      <th>Restaurant Count</th>\n",
       "    </tr>\n",
       "  </thead>\n",
       "  <tbody>\n",
       "    <tr>\n",
       "      <th>0</th>\n",
       "      <td>0</td>\n",
       "      <td>12463</td>\n",
       "    </tr>\n",
       "    <tr>\n",
       "      <th>1</th>\n",
       "      <td>1</td>\n",
       "      <td>519</td>\n",
       "    </tr>\n",
       "  </tbody>\n",
       "</table>\n",
       "</div>"
      ],
      "text/plain": [
       "   Green Star  Restaurant Count\n",
       "0           0             12463\n",
       "1           1               519"
      ]
     },
     "execution_count": 38,
     "metadata": {},
     "output_type": "execute_result"
    }
   ],
   "source": [
    "\n",
    "green_star_counts = df[\"GreenStar\"].value_counts().reset_index()\n",
    "\n",
    "green_star_counts.columns = [\"Green Star\", \"Restaurant Count\"]\n",
    "\n",
    "green_star_counts\n"
   ]
  },
  {
   "cell_type": "code",
   "execution_count": 52,
   "metadata": {},
   "outputs": [
    {
     "data": {
      "text/html": [
       "<div>\n",
       "<style scoped>\n",
       "    .dataframe tbody tr th:only-of-type {\n",
       "        vertical-align: middle;\n",
       "    }\n",
       "\n",
       "    .dataframe tbody tr th {\n",
       "        vertical-align: top;\n",
       "    }\n",
       "\n",
       "    .dataframe thead th {\n",
       "        text-align: right;\n",
       "    }\n",
       "</style>\n",
       "<table border=\"1\" class=\"dataframe\">\n",
       "  <thead>\n",
       "    <tr style=\"text-align: right;\">\n",
       "      <th>Award</th>\n",
       "      <th>GreenStar</th>\n",
       "      <th>1 Star</th>\n",
       "      <th>2 Stars</th>\n",
       "      <th>3 Stars</th>\n",
       "      <th>Bib Gourmand</th>\n",
       "      <th>Selected Restaurants</th>\n",
       "    </tr>\n",
       "  </thead>\n",
       "  <tbody>\n",
       "    <tr>\n",
       "      <th>0</th>\n",
       "      <td>0</td>\n",
       "      <td>2144</td>\n",
       "      <td>335</td>\n",
       "      <td>86</td>\n",
       "      <td>1836</td>\n",
       "      <td>8062</td>\n",
       "    </tr>\n",
       "    <tr>\n",
       "      <th>1</th>\n",
       "      <td>1</td>\n",
       "      <td>220</td>\n",
       "      <td>49</td>\n",
       "      <td>29</td>\n",
       "      <td>62</td>\n",
       "      <td>159</td>\n",
       "    </tr>\n",
       "  </tbody>\n",
       "</table>\n",
       "</div>"
      ],
      "text/plain": [
       "Award  GreenStar  1 Star  2 Stars  3 Stars  Bib Gourmand  Selected Restaurants\n",
       "0              0    2144      335       86          1836                  8062\n",
       "1              1     220       49       29            62                   159"
      ]
     },
     "execution_count": 52,
     "metadata": {},
     "output_type": "execute_result"
    }
   ],
   "source": [
    "green_star_vs_award = df.groupby(\"GreenStar\")[\"Award\"].value_counts().unstack(fill_value=0)\n",
    "\n",
    "green_star_vs_award = green_star_vs_award.reset_index()\n",
    "\n",
    "green_star_vs_award\n"
   ]
  },
  {
   "cell_type": "markdown",
   "metadata": {},
   "source": [
    "Ne ekologiški restoranai dažniau patenka į „Bib Gourmand“ ir „Selected Restaurants“ kategorijas.\n",
    "- Ekologiški restoranai dažniau pasiekia aukščiausius Michelin įvertinimus (2 ir 3 žvaigždes).\n",
    "- Tvarumas tampa svarbus Michelin vertinime, bet dar nėra plačiai paplitęs.\n",
    "- Ekologiškumas gali padėti išsiskirti rinkoje ir padidinti šansus gauti Michelin įvertinimą."
   ]
  },
  {
   "cell_type": "markdown",
   "metadata": {},
   "source": [
    "IŠVADOS: \n",
    "- Michelin gidas vertina ne tik prabangą, bet ir kokybę, inovacijas bei ekologiškumą.\n",
    "- Brangūs restoranai dažniau gauna aukštesnius įvertinimus, tačiau vidutinės kainos restoranai taip pat gali patekti į Michelin gido rekomendacijas.\n",
    "- Modernios ir kūrybinės virtuvės dominuoja Michelin restoranuose.\n",
    "- Ekologiški restoranai dažniau gauna aukščiausius įvertinimus, todėl tvarumas tampa svarbiu kriterijumi."
   ]
  }
 ],
 "metadata": {
  "kernelspec": {
   "display_name": "Python 3",
   "language": "python",
   "name": "python3"
  },
  "language_info": {
   "codemirror_mode": {
    "name": "ipython",
    "version": 3
   },
   "file_extension": ".py",
   "mimetype": "text/x-python",
   "name": "python",
   "nbconvert_exporter": "python",
   "pygments_lexer": "ipython3",
   "version": "3.11.9"
  }
 },
 "nbformat": 4,
 "nbformat_minor": 2
}
